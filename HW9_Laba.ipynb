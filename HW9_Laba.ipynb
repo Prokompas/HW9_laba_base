{
 "cells": [
  {
   "cell_type": "markdown",
   "id": "ffcd79b9",
   "metadata": {},
   "source": [
    "# Лабораторная работа по модулю “Python для анализа данных”\n",
    "\n",
    "\n",
    "\n"
   ]
  },
  {
   "cell_type": "markdown",
   "id": "f75fd3dc",
   "metadata": {},
   "source": [
    "\n",
    "### 1.1 Дан произвольный список, содержащий только числа. Выведите результат сложения всех чисел больше 10.\n",
    "\n"
   ]
  },
  {
   "cell_type": "code",
   "execution_count": 1,
   "id": "fdc48975",
   "metadata": {},
   "outputs": [
    {
     "name": "stdout",
     "output_type": "stream",
     "text": [
      "[22, 20, 11, 24, 27]\n"
     ]
    }
   ],
   "source": [
    "import random\n",
    "#Generate 5 random numbers between 10 and 30\n",
    "randomlist = random.sample(range(10, 30), 5)\n",
    "print(randomlist)\n"
   ]
  },
  {
   "cell_type": "code",
   "execution_count": 2,
   "id": "b35a6755",
   "metadata": {},
   "outputs": [
    {
     "name": "stdout",
     "output_type": "stream",
     "text": [
      "104\n"
     ]
    }
   ],
   "source": [
    "s = 0\n",
    "for i in randomlist:\n",
    "    if i > 10:\n",
    "        s += i\n",
    "print(s)"
   ]
  },
  {
   "cell_type": "markdown",
   "id": "c1aab30e",
   "metadata": {},
   "source": [
    "### 1.2 Пусть задан список, содержащий строки. Выведите все строки, заканчивающиеся буквой r."
   ]
  },
  {
   "cell_type": "code",
   "execution_count": 2,
   "id": "3f1bf8be",
   "metadata": {},
   "outputs": [],
   "source": [
    "list_lines = ['dffvbj', 'dsjcr', 'DCKWR', 'asdjdba', 'ajshdfr']"
   ]
  },
  {
   "cell_type": "code",
   "execution_count": 3,
   "id": "f356dfa8",
   "metadata": {},
   "outputs": [
    {
     "name": "stdout",
     "output_type": "stream",
     "text": [
      "dsjcr\n",
      "ajshdfr\n"
     ]
    }
   ],
   "source": [
    "\n",
    "for i in list_lines:\n",
    "    if i.endswith('r'):\n",
    "        print(i)\n"
   ]
  },
  {
   "cell_type": "code",
   "execution_count": null,
   "id": "e5b1139f",
   "metadata": {},
   "outputs": [],
   "source": []
  },
  {
   "cell_type": "code",
   "execution_count": 4,
   "id": "70587e2f",
   "metadata": {},
   "outputs": [
    {
     "name": "stdout",
     "output_type": "stream",
     "text": [
      "dsjcr\n",
      "ajshdfr\n"
     ]
    }
   ],
   "source": [
    "# Другой способ (индекс -1 это последний символ в любой строке)\n",
    "\n",
    "for i in list_lines:\n",
    "    if i[-1] == 'r':\n",
    "        print(i)"
   ]
  },
  {
   "cell_type": "code",
   "execution_count": null,
   "id": "81f16649",
   "metadata": {},
   "outputs": [],
   "source": []
  },
  {
   "cell_type": "code",
   "execution_count": null,
   "id": "fda26651",
   "metadata": {},
   "outputs": [],
   "source": [
    "# command + /\n",
    "#  fg\n",
    "#  dgd\n",
    "#  dfv\n"
   ]
  },
  {
   "cell_type": "code",
   "execution_count": null,
   "id": "812a8fae",
   "metadata": {},
   "outputs": [],
   "source": []
  },
  {
   "cell_type": "markdown",
   "id": "36cd5cb0",
   "metadata": {},
   "source": [
    "### 1.3 Сгенерируйте и выведите случайную строку размером 6 символов, содержащую только цифры. Строка должна содержать хотя бы одну цифру 3."
   ]
  },
  {
   "cell_type": "code",
   "execution_count": 30,
   "id": "946eefa6",
   "metadata": {},
   "outputs": [],
   "source": [
    "import string\n"
   ]
  },
  {
   "cell_type": "code",
   "execution_count": 31,
   "id": "14dd69e8",
   "metadata": {},
   "outputs": [
    {
     "name": "stdout",
     "output_type": "stream",
     "text": [
      "516963\n"
     ]
    }
   ],
   "source": [
    "s = 6\n",
    "i = -1\n",
    "while i == -1:\n",
    "    num = ''.join(random.choices(string.digits, k = s))\n",
    "    i = num.find('3')\n",
    "print(num)"
   ]
  },
  {
   "cell_type": "code",
   "execution_count": null,
   "id": "4cf7d226",
   "metadata": {},
   "outputs": [],
   "source": []
  },
  {
   "cell_type": "code",
   "execution_count": 6,
   "id": "19140328",
   "metadata": {},
   "outputs": [
    {
     "name": "stdout",
     "output_type": "stream",
     "text": [
      "566327\n"
     ]
    }
   ],
   "source": [
    "# Другой способ. Создаем сразу 6-ти значное число\n",
    "\n",
    "import random\n",
    "\n",
    "number = 0\n",
    "\n",
    "while '3' not in str(number):\n",
    "    number = random.randint(100000, 999999)\n",
    "print(number)"
   ]
  },
  {
   "cell_type": "code",
   "execution_count": null,
   "id": "0eea651a",
   "metadata": {},
   "outputs": [],
   "source": []
  },
  {
   "cell_type": "markdown",
   "id": "9fddb763",
   "metadata": {},
   "source": [
    "### 1.4 Пусть дана строка произвольной длины. Выведите информацию о том, сколько в ней символов и сколько слов."
   ]
  },
  {
   "cell_type": "code",
   "execution_count": 13,
   "id": "f2236824",
   "metadata": {},
   "outputs": [],
   "source": [
    "\n",
    "\n",
    "line = 'Пошла гулять Машенька по лесу с подругами и заблудилась, не исполнила наказ дедушки с бабушкой.'\n"
   ]
  },
  {
   "cell_type": "code",
   "execution_count": 8,
   "id": "47a0485f",
   "metadata": {},
   "outputs": [
    {
     "name": "stdout",
     "output_type": "stream",
     "text": [
      "Количество символов = 95, количество слов = 15\n"
     ]
    }
   ],
   "source": [
    "print(f'Количество символов = {len(line)}, количество слов = {len(line.strip().split(\" \"))}') "
   ]
  },
  {
   "cell_type": "code",
   "execution_count": null,
   "id": "b291314b",
   "metadata": {},
   "outputs": [],
   "source": []
  },
  {
   "cell_type": "code",
   "execution_count": 14,
   "id": "ea1bfe51",
   "metadata": {},
   "outputs": [
    {
     "name": "stdout",
     "output_type": "stream",
     "text": [
      "15\n"
     ]
    }
   ],
   "source": [
    "# Another:\n",
    "\n",
    "string_to_list = line.split(' ')\n",
    "print(len(string_to_list))\n"
   ]
  },
  {
   "cell_type": "code",
   "execution_count": null,
   "id": "45514136",
   "metadata": {},
   "outputs": [],
   "source": []
  },
  {
   "cell_type": "markdown",
   "id": "71cbbacf",
   "metadata": {},
   "source": [
    "### 2.1 Пусть дана матрица чисел размером NxN. Представьте данную матрицу в виде списка. Выведите результат сложения всех элементов матрицы."
   ]
  },
  {
   "cell_type": "code",
   "execution_count": 15,
   "id": "cd027ed1",
   "metadata": {},
   "outputs": [],
   "source": [
    "import numpy as np"
   ]
  },
  {
   "cell_type": "code",
   "execution_count": 16,
   "id": "b902a405",
   "metadata": {},
   "outputs": [
    {
     "data": {
      "text/plain": [
       "array([[ 6.17779239e-31, -1.23555848e-30,  3.08889620e-31],\n",
       "       [-1.23555848e-30,  2.68733969e-30, -8.34001973e-31],\n",
       "       [ 3.08889620e-31, -8.34001973e-31,  4.78778910e-31]])"
      ]
     },
     "execution_count": 16,
     "metadata": {},
     "output_type": "execute_result"
    }
   ],
   "source": [
    "matrix = np.empty((3,3))\n",
    "matrix"
   ]
  },
  {
   "cell_type": "code",
   "execution_count": 20,
   "id": "76d0d794",
   "metadata": {},
   "outputs": [
    {
     "data": {
      "text/plain": [
       "numpy.ndarray"
      ]
     },
     "execution_count": 20,
     "metadata": {},
     "output_type": "execute_result"
    }
   ],
   "source": [
    "matrix.shape\n",
    "type(matrix)"
   ]
  },
  {
   "cell_type": "code",
   "execution_count": 22,
   "id": "a727a637",
   "metadata": {},
   "outputs": [],
   "source": [
    "m_list = []\n"
   ]
  },
  {
   "cell_type": "code",
   "execution_count": 23,
   "id": "a48ac570",
   "metadata": {},
   "outputs": [
    {
     "data": {
      "text/plain": [
       "list"
      ]
     },
     "execution_count": 23,
     "metadata": {},
     "output_type": "execute_result"
    }
   ],
   "source": [
    "# Можно было не строить список, а просто сразу вывести сумму\n",
    "\n",
    "for i in matrix:\n",
    "    x = list(i)\n",
    "    m_list.append(x)\n",
    "type(m_list)"
   ]
  },
  {
   "cell_type": "code",
   "execution_count": 26,
   "id": "fc4e816e",
   "metadata": {},
   "outputs": [
    {
     "data": {
      "text/plain": [
       "5.860951465982177"
      ]
     },
     "execution_count": 26,
     "metadata": {},
     "output_type": "execute_result"
    }
   ],
   "source": [
    "matrix.sum()"
   ]
  },
  {
   "cell_type": "code",
   "execution_count": null,
   "id": "c56de37d",
   "metadata": {},
   "outputs": [],
   "source": []
  },
  {
   "cell_type": "code",
   "execution_count": null,
   "id": "08568563",
   "metadata": {},
   "outputs": [],
   "source": []
  },
  {
   "cell_type": "markdown",
   "id": "98bcb77e",
   "metadata": {},
   "source": [
    "### 2.2 Дана матрица размерностью MxN. Напишите алгоритм вычисления максимума из сумм элементов каждого столбца"
   ]
  },
  {
   "cell_type": "code",
   "execution_count": 24,
   "id": "3201b798",
   "metadata": {},
   "outputs": [],
   "source": [
    "arr = np.array([[3,3,1],[2,5,5]])"
   ]
  },
  {
   "cell_type": "code",
   "execution_count": 25,
   "id": "bb3a459c",
   "metadata": {},
   "outputs": [
    {
     "data": {
      "text/plain": [
       "3"
      ]
     },
     "execution_count": 25,
     "metadata": {},
     "output_type": "execute_result"
    }
   ],
   "source": [
    "x = len(arr[0])\n",
    "x"
   ]
  },
  {
   "cell_type": "code",
   "execution_count": 26,
   "id": "8dd9bb6b",
   "metadata": {},
   "outputs": [
    {
     "data": {
      "text/plain": [
       "8"
      ]
     },
     "execution_count": 26,
     "metadata": {},
     "output_type": "execute_result"
    }
   ],
   "source": [
    "i = 0\n",
    "max_sum = 0\n",
    "while i < x:\n",
    "    column = arr[:,i]\n",
    "    s = sum(column)\n",
    "    if s > max_sum:\n",
    "        max_sum = s\n",
    "    i += 1\n",
    "max_sum\n",
    "    "
   ]
  },
  {
   "cell_type": "code",
   "execution_count": null,
   "id": "721bc762",
   "metadata": {},
   "outputs": [],
   "source": []
  },
  {
   "cell_type": "code",
   "execution_count": 28,
   "id": "f8521948",
   "metadata": {},
   "outputs": [
    {
     "name": "stdout",
     "output_type": "stream",
     "text": [
      "8\n"
     ]
    }
   ],
   "source": [
    "# Another (получаем список сумм элементов столбцов)\n",
    "\n",
    "print(max(np.sum(arr, axis=0)))"
   ]
  },
  {
   "cell_type": "code",
   "execution_count": null,
   "id": "78981225",
   "metadata": {},
   "outputs": [],
   "source": []
  },
  {
   "cell_type": "markdown",
   "id": "fbb53e74",
   "metadata": {},
   "source": [
    "### 3.1 Пусть список студентов представлен в виде структуры [[No, ФИО, Возраст, Группа]], [[No, ФИО, Возраст, Группа]].  Преобразуйте список в словарь вида {No : [ФИО, Возраст, Группа], No : [ ... ], No : [ ... ]}"
   ]
  },
  {
   "cell_type": "code",
   "execution_count": 29,
   "id": "8a3a9c29",
   "metadata": {},
   "outputs": [],
   "source": [
    "student_list = [\n",
    "    [1, 'Kerry John', 18, 'Class 1'],\n",
    "    [2, 'Adams Alex', 22, 'Class 2'],\n",
    "    [3, 'Silver Marry', 19, 'Class 1']]"
   ]
  },
  {
   "cell_type": "code",
   "execution_count": 30,
   "id": "c717e39b",
   "metadata": {},
   "outputs": [
    {
     "data": {
      "text/plain": [
       "{1: ['Kerry John', 18, 'Class 1'],\n",
       " 2: ['Adams Alex', 22, 'Class 2'],\n",
       " 3: ['Silver Marry', 19, 'Class 1']}"
      ]
     },
     "execution_count": 30,
     "metadata": {},
     "output_type": "execute_result"
    }
   ],
   "source": [
    "student_dict = {}\n",
    "l = len(student_list[0])\n",
    "for row in student_list:\n",
    "    value = []\n",
    "    for i in range(1,l):\n",
    "        value.append(row[i])\n",
    "        i += 1\n",
    "        \n",
    "    student_dict[row[0]] = value\n",
    "student_dict"
   ]
  },
  {
   "cell_type": "code",
   "execution_count": null,
   "id": "1038813e",
   "metadata": {},
   "outputs": [],
   "source": []
  },
  {
   "cell_type": "code",
   "execution_count": 31,
   "id": "a8446252",
   "metadata": {},
   "outputs": [
    {
     "name": "stdout",
     "output_type": "stream",
     "text": [
      "{1: ['Kerry John', 18, 'Class 1'], 2: ['Adams Alex', 22, 'Class 2'], 3: ['Silver Marry', 19, 'Class 1']}\n"
     ]
    }
   ],
   "source": [
    "# Another: Можно не делать цикл чтобы пробежать по всему списку, \n",
    "# а воспользоваться срезом через индекс\n",
    "\n",
    "data_dict = {}\n",
    "for item in student_list:\n",
    "    data_dict[item[0]] = item[1:]\n",
    "    \n",
    "print(data_dict)"
   ]
  },
  {
   "cell_type": "code",
   "execution_count": null,
   "id": "184e3b11",
   "metadata": {},
   "outputs": [],
   "source": []
  },
  {
   "cell_type": "markdown",
   "id": "4b575cb6",
   "metadata": {},
   "source": [
    "### 3.2 Напишите алгоритм, позволяющий найти запись в словаре из задачи 3.1 (без преобразования словаря обратно в список) по фамилии и изменить в ней номер группы. Фамилию и новый номер группы необходимо ввести с клавиатуры"
   ]
  },
  {
   "cell_type": "code",
   "execution_count": 32,
   "id": "2f2e4264",
   "metadata": {},
   "outputs": [
    {
     "name": "stdout",
     "output_type": "stream",
     "text": [
      "Введите фамилию Kerry\n"
     ]
    }
   ],
   "source": [
    "family = input('Введите фамилию ')"
   ]
  },
  {
   "cell_type": "code",
   "execution_count": 43,
   "id": "9425fbb7",
   "metadata": {},
   "outputs": [
    {
     "name": "stdout",
     "output_type": "stream",
     "text": [
      "Введите класс Class 4\n"
     ]
    }
   ],
   "source": [
    "class_number = input('Введите класс ')"
   ]
  },
  {
   "cell_type": "code",
   "execution_count": 72,
   "id": "db774e7f",
   "metadata": {},
   "outputs": [
    {
     "data": {
      "text/plain": [
       "{1: ['Kerry John', 18, 'Class 3'],\n",
       " 2: ['Adams Alex', 22, 'Class 2'],\n",
       " 3: ['Silver Marry', 19, 'Class 1']}"
      ]
     },
     "execution_count": 72,
     "metadata": {},
     "output_type": "execute_result"
    }
   ],
   "source": [
    "for row in student_dict.values():\n",
    "    x = row[0].find(family)\n",
    "    if x > -1:\n",
    "        row[2] = class_number\n",
    "student_dict"
   ]
  },
  {
   "cell_type": "code",
   "execution_count": null,
   "id": "542d5775",
   "metadata": {},
   "outputs": [],
   "source": []
  },
  {
   "cell_type": "code",
   "execution_count": 45,
   "id": "00f06401",
   "metadata": {},
   "outputs": [
    {
     "name": "stdout",
     "output_type": "stream",
     "text": [
      "['Kerry John', 18, 'Class 1']\n",
      "['Adams Alex', 22, 'Class 2']\n",
      "['Silver Marry', 19, 'Class 1']\n",
      "{1: ['Kerry John', 18, 'Class 1'], 2: ['Adams Alex', 22, 'Class 2'], 3: ['Silver Marry', 19, 'Class 1']}\n"
     ]
    }
   ],
   "source": [
    "# Another В  pycharm вроде работает, у меня нет\n",
    "\n",
    "for item in data_dict.values():\n",
    "    print(item)\n",
    "    if family in item:\n",
    "        print(item)\n",
    "        item[2] = class_number\n",
    "    \n",
    "print(data_dict)\n",
    "        \n",
    "\n"
   ]
  },
  {
   "cell_type": "markdown",
   "id": "91fc0496",
   "metadata": {},
   "source": [
    "### 3.3 Напишите алгоритм, позволяющий аналогично задаче 3.2 изменить возраст студента"
   ]
  },
  {
   "cell_type": "code",
   "execution_count": 73,
   "id": "6dbd96a9",
   "metadata": {},
   "outputs": [
    {
     "name": "stdout",
     "output_type": "stream",
     "text": [
      "Введите фамилию Adams\n"
     ]
    }
   ],
   "source": [
    "family = input('Введите фамилию ')"
   ]
  },
  {
   "cell_type": "code",
   "execution_count": 74,
   "id": "15739e96",
   "metadata": {},
   "outputs": [
    {
     "name": "stdout",
     "output_type": "stream",
     "text": [
      "Введите возраст 31\n"
     ]
    }
   ],
   "source": [
    "age = input('Введите возраст ')"
   ]
  },
  {
   "cell_type": "code",
   "execution_count": 75,
   "id": "3f643888",
   "metadata": {},
   "outputs": [
    {
     "data": {
      "text/plain": [
       "{1: ['Kerry John', 18, 'Class 3'],\n",
       " 2: ['Adams Alex', '31', 'Class 2'],\n",
       " 3: ['Silver Marry', 19, 'Class 1']}"
      ]
     },
     "execution_count": 75,
     "metadata": {},
     "output_type": "execute_result"
    }
   ],
   "source": [
    "for row in student_dict.values():\n",
    "    x = row[0].find(family)\n",
    "    if x > -1:\n",
    "        row[1] = age\n",
    "student_dict"
   ]
  },
  {
   "cell_type": "code",
   "execution_count": null,
   "id": "ba1bfb70",
   "metadata": {},
   "outputs": [],
   "source": []
  },
  {
   "cell_type": "code",
   "execution_count": null,
   "id": "c23d1db5",
   "metadata": {},
   "outputs": [],
   "source": []
  },
  {
   "cell_type": "code",
   "execution_count": null,
   "id": "300fcac4",
   "metadata": {},
   "outputs": [],
   "source": []
  }
 ],
 "metadata": {
  "kernelspec": {
   "display_name": "Python 3 (ipykernel)",
   "language": "python",
   "name": "python3"
  },
  "language_info": {
   "codemirror_mode": {
    "name": "ipython",
    "version": 3
   },
   "file_extension": ".py",
   "mimetype": "text/x-python",
   "name": "python",
   "nbconvert_exporter": "python",
   "pygments_lexer": "ipython3",
   "version": "3.9.12"
  }
 },
 "nbformat": 4,
 "nbformat_minor": 5
}
